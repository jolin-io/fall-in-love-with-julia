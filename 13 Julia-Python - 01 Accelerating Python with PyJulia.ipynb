{
 "cells": [
  {
   "attachments": {},
   "cell_type": "markdown",
   "metadata": {},
   "source": [
    "[![Binder](https://mybinder.org/badge_logo.svg)](https://notebooks.gesis.org/binder/v2/gh/jolin-io/fall-in-love-with-julia/main?filepath=13%20Julia-Python20-%2001%20Accelerating%20Python%20with%20PyJulia.ipynb)"
   ]
  },
  {
   "attachments": {},
   "cell_type": "markdown",
   "metadata": {},
   "source": [
    "<a href=\"https://www.jolin.io\" target=\"_blank\" rel=\"noreferrer noopener\">\n",
    "<img src=\"https://www.jolin.io/assets/Jolin/Jolin-Banner-Website-v1.3-darkmode.webp\">\n",
    "</a>"
   ]
  },
  {
   "attachments": {},
   "cell_type": "markdown",
   "metadata": {},
   "source": [
    "# Fall-in-love-with-Julia: Accelerating Python 101\n",
    "\n",
    "For Julia Python interactions there are two packages:\n",
    "\n",
    "|    | [PyCall.jl](https://github.com/JuliaPy/PyCall.jl) | [PythonCall.jl](https://github.com/cjdoris/PythonCall.jl) |\n",
    "| -: | --------- | ------------- |\n",
    "| pypi | with [`PyJulia`](https://github.com/JuliaPy/pyjulia) python package (simply called `julia` on pypi) | with [`JuliaCall`](https://pypi.org/project/juliacall/) python package |\n",
    "| conversions | automatically converts between native types | no auto-conversion, just wrapping |\n",
    "| dependencies | Global package management via `Conda.jl` | Project-separated package management via `CondaPkg.jl` |\n",
    "| run python | use `py\"...\"` | use `@pyexec \"...\"` |\n",
    "\n",
    "Outline\n",
    "- **[01](https://notebooks.gesis.org/binder/v2/gh/jolin-io/fall-in-love-with-julia/main?filepath=13%20Julia-Python20-%2001%20Accelerating%20Python%20with%20PyJulia.ipynb) first notebook shows how to use PyJulia**\n",
    "- [02](https://notebooks.gesis.org/binder/v2/gh/jolin-io/fall-in-love-with-julia/main?filepath=13%20Julia-Python20-%2002%20Accelerating%20Python%20with%20JuliaCall.ipynb) second notebook is about JuliaCall\n",
    "- [03](https://notebooks.gesis.org/binder/v2/gh/jolin-io/fall-in-love-with-julia/main?filepath=13%20Julia-Python20-%2003%20Use%20Python%20with%20PyCall%20and%20PythonCall.ipynb) using Python from Julia with both PyCall and PythonCall\n",
    "- [special extra](https://mybinder.org/v2/gh/jolin-io/workshop-accelerate-Python-with-Julia/main?filepath=03-example-cython-vs-cpp-vs-julia.ipynb) - Julia vs C++"
   ]
  },
  {
   "attachments": {},
   "cell_type": "markdown",
   "metadata": {},
   "source": [
    "# PyJulia\n",
    "\n",
    "Let's look at the basics how to call Julia from Python with PyJulia. Note that this Jupyter has a **Python kernel**."
   ]
  },
  {
   "cell_type": "code",
   "execution_count": 45,
   "metadata": {},
   "outputs": [
    {
     "name": "stdout",
     "output_type": "stream",
     "text": [
      "The julia.magic extension is already loaded. To reload it, use:\n",
      "  %reload_ext julia.magic\n"
     ]
    }
   ],
   "source": [
    "from julia.api import Julia\n",
    "_jl = Julia(compiled_modules=False)\n",
    "%load_ext julia.magic"
   ]
  },
  {
   "cell_type": "code",
   "execution_count": 75,
   "metadata": {},
   "outputs": [
    {
     "data": {
      "text/plain": [
       "array([0, 1, 2, 3, 4, 5, 6, 7, 8, 9])"
      ]
     },
     "execution_count": 75,
     "metadata": {},
     "output_type": "execute_result"
    }
   ],
   "source": [
    "import numpy as np\n",
    "import pandas as pd\n",
    "\n",
    "array = np.arange(10)\n",
    "array"
   ]
  },
  {
   "attachments": {},
   "cell_type": "markdown",
   "metadata": {},
   "source": [
    "`PyJulia` does autoconversions for you"
   ]
  },
  {
   "cell_type": "code",
   "execution_count": 77,
   "metadata": {},
   "outputs": [
    {
     "name": "stdout",
     "output_type": "stream",
     "text": [
      "\n",
      "Vector{Int64}\n",
      "BitVector\n"
     ]
    }
   ],
   "source": [
    "%%julia\n",
    "println(typeof($array))  # caution! @show does not work because of the special handling of interpolation $\n",
    "result = isodd.($array)\n",
    "println(typeof(result))"
   ]
  },
  {
   "cell_type": "code",
   "execution_count": 14,
   "metadata": {},
   "outputs": [
    {
     "data": {
      "text/plain": [
       "numpy.ndarray"
      ]
     },
     "execution_count": 14,
     "metadata": {},
     "output_type": "execute_result"
    }
   ],
   "source": [
    "result = %julia isodd.($array)\n",
    "type(result)"
   ]
  },
  {
   "attachments": {},
   "cell_type": "markdown",
   "metadata": {},
   "source": [
    "This is especially handy when working with `True`/`False`"
   ]
  },
  {
   "cell_type": "code",
   "execution_count": 23,
   "metadata": {},
   "outputs": [
    {
     "data": {
      "text/plain": [
       "False"
      ]
     },
     "execution_count": 23,
     "metadata": {},
     "output_type": "execute_result"
    }
   ],
   "source": [
    "mycondition = (array == 40).any()\n",
    "mycondition"
   ]
  },
  {
   "cell_type": "code",
   "execution_count": 24,
   "metadata": {},
   "outputs": [
    {
     "name": "stdout",
     "output_type": "stream",
     "text": [
      "also works :)! (we only want to test that julia actually gets a julia Bool value)\n"
     ]
    }
   ],
   "source": [
    "%%julia\n",
    "if $mycondition\n",
    "    println(\"yes! works\")\n",
    "else\n",
    "    println(\"also works :)! (we only want to test that julia actually gets a julia Bool value)\")\n",
    "end"
   ]
  },
  {
   "attachments": {},
   "cell_type": "markdown",
   "metadata": {},
   "source": [
    "## DataFrames"
   ]
  },
  {
   "cell_type": "code",
   "execution_count": 26,
   "metadata": {},
   "outputs": [
    {
     "data": {
      "text/html": [
       "<div>\n",
       "<style scoped>\n",
       "    .dataframe tbody tr th:only-of-type {\n",
       "        vertical-align: middle;\n",
       "    }\n",
       "\n",
       "    .dataframe tbody tr th {\n",
       "        vertical-align: top;\n",
       "    }\n",
       "\n",
       "    .dataframe thead th {\n",
       "        text-align: right;\n",
       "    }\n",
       "</style>\n",
       "<table border=\"1\" class=\"dataframe\">\n",
       "  <thead>\n",
       "    <tr style=\"text-align: right;\">\n",
       "      <th></th>\n",
       "      <th>calories</th>\n",
       "      <th>duration</th>\n",
       "    </tr>\n",
       "  </thead>\n",
       "  <tbody>\n",
       "    <tr>\n",
       "      <th>day1</th>\n",
       "      <td>420</td>\n",
       "      <td>50</td>\n",
       "    </tr>\n",
       "    <tr>\n",
       "      <th>day2</th>\n",
       "      <td>380</td>\n",
       "      <td>40</td>\n",
       "    </tr>\n",
       "    <tr>\n",
       "      <th>day3</th>\n",
       "      <td>390</td>\n",
       "      <td>45</td>\n",
       "    </tr>\n",
       "  </tbody>\n",
       "</table>\n",
       "</div>"
      ],
      "text/plain": [
       "      calories  duration\n",
       "day1       420        50\n",
       "day2       380        40\n",
       "day3       390        45"
      ]
     },
     "execution_count": 26,
     "metadata": {},
     "output_type": "execute_result"
    }
   ],
   "source": [
    "data = {\n",
    "  \"calories\": [420, 380, 390],\n",
    "  \"duration\": [50, 40, 45]\n",
    "}\n",
    "df = pd.DataFrame(data, index = [\"day1\", \"day2\", \"day3\"])\n",
    "df"
   ]
  },
  {
   "attachments": {},
   "cell_type": "markdown",
   "metadata": {},
   "source": [
    "For PyCall.jl there is not much default support for converting a Pandas Dataframe to a Julia Dataframe. Thankfully there is a separate package, compatible with PyCall, which wraps Pandas within Julia."
   ]
  },
  {
   "cell_type": "code",
   "execution_count": 33,
   "metadata": {},
   "outputs": [
    {
     "data": {
      "text/plain": [
       "<PyCall.jlwrap 3×2 DataFrame\n",
       " Row │ calories  duration\n",
       "     │ Int64     Int64\n",
       "─────┼────────────────────\n",
       "   1 │      420        50\n",
       "   2 │      380        40\n",
       "   3 │      390        45>"
      ]
     },
     "execution_count": 33,
     "metadata": {},
     "output_type": "execute_result"
    }
   ],
   "source": [
    "%%julia\n",
    "import Pandas\n",
    "using DataFrames\n",
    "\n",
    "DataFrame(Pandas.DataFrame($df))"
   ]
  },
  {
   "attachments": {},
   "cell_type": "markdown",
   "metadata": {},
   "source": [
    "The other way around works analogously"
   ]
  },
  {
   "cell_type": "code",
   "execution_count": 40,
   "metadata": {},
   "outputs": [
    {
     "data": {
      "text/plain": [
       "<PyCall.jlwrap 6×5 DataFrame\n",
       " Row │ grp    x      y      z        id\n",
       "     │ Int64  Int64  Int64  Int64?   Char\n",
       "─────┼────────────────────────────────────\n",
       "   1 │     1      6      4        3  a\n",
       "   2 │     2      5      5        4  b\n",
       "   3 │     1      4      6        5  c\n",
       "   4 │     2      3      7        6  d\n",
       "   5 │     1      2      8        7  e\n",
       "   6 │     2      1      9  missing  f>"
      ]
     },
     "execution_count": 40,
     "metadata": {},
     "output_type": "execute_result"
    }
   ],
   "source": [
    "%%julia\n",
    "df2 = DataFrame(grp=repeat(1:2, 3), x=6:-1:1, y=4:9, z=[3:7; missing], id='a':'f')"
   ]
  },
  {
   "cell_type": "code",
   "execution_count": 41,
   "metadata": {},
   "outputs": [
    {
     "data": {
      "text/plain": [
       "(PyCall.jlwrap, pandas.core.frame.DataFrame)"
      ]
     },
     "execution_count": 41,
     "metadata": {},
     "output_type": "execute_result"
    }
   ],
   "source": [
    "jdf2 = %julia df2\n",
    "df2 = %julia Pandas.DataFrame(df2)\n",
    "type(jdf2), type(df2)"
   ]
  },
  {
   "cell_type": "code",
   "execution_count": 43,
   "metadata": {},
   "outputs": [
    {
     "data": {
      "text/html": [
       "<div>\n",
       "<style scoped>\n",
       "    .dataframe tbody tr th:only-of-type {\n",
       "        vertical-align: middle;\n",
       "    }\n",
       "\n",
       "    .dataframe tbody tr th {\n",
       "        vertical-align: top;\n",
       "    }\n",
       "\n",
       "    .dataframe thead th {\n",
       "        text-align: right;\n",
       "    }\n",
       "</style>\n",
       "<table border=\"1\" class=\"dataframe\">\n",
       "  <thead>\n",
       "    <tr style=\"text-align: right;\">\n",
       "      <th></th>\n",
       "      <th>grp</th>\n",
       "      <th>x</th>\n",
       "      <th>y</th>\n",
       "      <th>z</th>\n",
       "      <th>id</th>\n",
       "    </tr>\n",
       "  </thead>\n",
       "  <tbody>\n",
       "    <tr>\n",
       "      <th>0</th>\n",
       "      <td>1</td>\n",
       "      <td>6</td>\n",
       "      <td>4</td>\n",
       "      <td>3.0</td>\n",
       "      <td>&lt;PyCall.jlwrap a&gt;</td>\n",
       "    </tr>\n",
       "    <tr>\n",
       "      <th>1</th>\n",
       "      <td>2</td>\n",
       "      <td>5</td>\n",
       "      <td>5</td>\n",
       "      <td>4.0</td>\n",
       "      <td>&lt;PyCall.jlwrap b&gt;</td>\n",
       "    </tr>\n",
       "    <tr>\n",
       "      <th>2</th>\n",
       "      <td>1</td>\n",
       "      <td>4</td>\n",
       "      <td>6</td>\n",
       "      <td>5.0</td>\n",
       "      <td>&lt;PyCall.jlwrap c&gt;</td>\n",
       "    </tr>\n",
       "    <tr>\n",
       "      <th>3</th>\n",
       "      <td>2</td>\n",
       "      <td>3</td>\n",
       "      <td>7</td>\n",
       "      <td>6.0</td>\n",
       "      <td>&lt;PyCall.jlwrap d&gt;</td>\n",
       "    </tr>\n",
       "    <tr>\n",
       "      <th>4</th>\n",
       "      <td>1</td>\n",
       "      <td>2</td>\n",
       "      <td>8</td>\n",
       "      <td>7.0</td>\n",
       "      <td>&lt;PyCall.jlwrap e&gt;</td>\n",
       "    </tr>\n",
       "    <tr>\n",
       "      <th>5</th>\n",
       "      <td>2</td>\n",
       "      <td>1</td>\n",
       "      <td>9</td>\n",
       "      <td>NaN</td>\n",
       "      <td>&lt;PyCall.jlwrap f&gt;</td>\n",
       "    </tr>\n",
       "  </tbody>\n",
       "</table>\n",
       "</div>"
      ],
      "text/plain": [
       "   grp  x  y    z                 id\n",
       "0    1  6  4  3.0  <PyCall.jlwrap a>\n",
       "1    2  5  5  4.0  <PyCall.jlwrap b>\n",
       "2    1  4  6  5.0  <PyCall.jlwrap c>\n",
       "3    2  3  7  6.0  <PyCall.jlwrap d>\n",
       "4    1  2  8  7.0  <PyCall.jlwrap e>\n",
       "5    2  1  9  NaN  <PyCall.jlwrap f>"
      ]
     },
     "execution_count": 43,
     "metadata": {},
     "output_type": "execute_result"
    }
   ],
   "source": [
    "df2"
   ]
  },
  {
   "attachments": {},
   "cell_type": "markdown",
   "metadata": {},
   "source": [
    "For more comparisons between Pandas and Julia Dataframe see https://dataframes.juliadata.org/stable/man/comparisons/"
   ]
  },
  {
   "attachments": {},
   "cell_type": "markdown",
   "metadata": {},
   "source": [
    "## How to do it without %julia magic?\n",
    "\n",
    "The julia's Main module allows you to access almost everything from Julia programmatically. "
   ]
  },
  {
   "cell_type": "code",
   "execution_count": 68,
   "metadata": {},
   "outputs": [],
   "source": [
    "from julia import Main as jl"
   ]
  },
  {
   "cell_type": "code",
   "execution_count": 69,
   "metadata": {},
   "outputs": [
    {
     "data": {
      "text/plain": [
       "<PyCall.jlwrap broadcast_isodd>"
      ]
     },
     "execution_count": 69,
     "metadata": {},
     "output_type": "execute_result"
    }
   ],
   "source": [
    "jl.eval(\"\"\"\n",
    "broadcast_isodd(a) = isodd.(a)\n",
    "\"\"\")"
   ]
  },
  {
   "cell_type": "code",
   "execution_count": 70,
   "metadata": {},
   "outputs": [
    {
     "data": {
      "text/plain": [
       "array([False,  True, False,  True, False,  True, False,  True, False,\n",
       "        True])"
      ]
     },
     "execution_count": 70,
     "metadata": {},
     "output_type": "execute_result"
    }
   ],
   "source": [
    "jl.broadcast_isodd(array)"
   ]
  },
  {
   "attachments": {},
   "cell_type": "markdown",
   "metadata": {},
   "source": [
    "Caution! However be cautious that autoconversion, while handy, can also become tricky.\n",
    "\n",
    "While this works"
   ]
  },
  {
   "cell_type": "code",
   "execution_count": 60,
   "metadata": {},
   "outputs": [
    {
     "data": {
      "text/plain": [
       "<PyCall.jlwrap 3×2 DataFrame\n",
       " Row │ calories  duration\n",
       "     │ Int64     Int64\n",
       "─────┼────────────────────\n",
       "   1 │      420        50\n",
       "   2 │      380        40\n",
       "   3 │      390        45>"
      ]
     },
     "execution_count": 60,
     "metadata": {},
     "output_type": "execute_result"
    }
   ],
   "source": [
    "%julia DataFrame(Pandas.DataFrame($df))"
   ]
  },
  {
   "attachments": {},
   "cell_type": "markdown",
   "metadata": {},
   "source": [
    "This does not work"
   ]
  },
  {
   "cell_type": "code",
   "execution_count": 71,
   "metadata": {},
   "outputs": [
    {
     "ename": "ValueError",
     "evalue": "<PyCall.jlwrap (in a Julia function called from Python)\nJULIA: ArgumentError: 'PyObject' iterates 'String' values, which doesn't satisfy the Tables.jl `AbstractRow` interface\nStacktrace:\n  [1] invalidtable(#unused#::PyObject, #unused#::String)\n    @ Tables ~/.julia/packages/Tables/AcRIE/src/tofromdatavalues.jl:41\n  [2] iterate\n    @ ~/.julia/packages/Tables/AcRIE/src/tofromdatavalues.jl:47 [inlined]\n  [3] buildcolumns\n    @ ~/.julia/packages/Tables/AcRIE/src/fallbacks.jl:209 [inlined]\n  [4] _columns\n    @ ~/.julia/packages/Tables/AcRIE/src/fallbacks.jl:274 [inlined]\n  [5] columns\n    @ ~/.julia/packages/Tables/AcRIE/src/fallbacks.jl:258 [inlined]\n  [6] DataFrame(x::PyObject; copycols::Nothing)\n    @ DataFrames ~/.julia/packages/DataFrames/JZ7x5/src/other/tables.jl:58\n  [7] DataFrame(x::PyObject)\n    @ DataFrames ~/.julia/packages/DataFrames/JZ7x5/src/other/tables.jl:48\n  [8] invokelatest(::Any, ::Any, ::Vararg{Any}; kwargs::Base.Pairs{Symbol, Union{}, Tuple{}, NamedTuple{(), Tuple{}}})\n    @ Base ./essentials.jl:816\n  [9] invokelatest(::Any, ::Any, ::Vararg{Any})\n    @ Base ./essentials.jl:813\n [10] _pyjlwrap_call(f::Type, args_::Ptr{PyCall.PyObject_struct}, kw_::Ptr{PyCall.PyObject_struct})\n    @ PyCall ~/.julia/packages/PyCall/twYvK/src/callback.jl:28\n [11] pyjlwrap_call(self_::Ptr{PyCall.PyObject_struct}, args_::Ptr{PyCall.PyObject_struct}, kw_::Ptr{PyCall.PyObject_struct})\n    @ PyCall ~/.julia/packages/PyCall/twYvK/src/callback.jl:44>",
     "output_type": "error",
     "traceback": [
      "\u001b[0;31m---------------------------------------------------------------------------\u001b[0m",
      "\u001b[0;31mValueError\u001b[0m                                Traceback (most recent call last)",
      "Cell \u001b[0;32mIn[71], line 2\u001b[0m\n\u001b[1;32m      1\u001b[0m \u001b[39mfrom\u001b[39;00m \u001b[39mjulia\u001b[39;00m \u001b[39mimport\u001b[39;00m Pandas\n\u001b[0;32m----> 2\u001b[0m jl\u001b[39m.\u001b[39;49mDataFrame(Pandas\u001b[39m.\u001b[39;49mDataFrame(df))\n",
      "\u001b[0;31mValueError\u001b[0m: <PyCall.jlwrap (in a Julia function called from Python)\nJULIA: ArgumentError: 'PyObject' iterates 'String' values, which doesn't satisfy the Tables.jl `AbstractRow` interface\nStacktrace:\n  [1] invalidtable(#unused#::PyObject, #unused#::String)\n    @ Tables ~/.julia/packages/Tables/AcRIE/src/tofromdatavalues.jl:41\n  [2] iterate\n    @ ~/.julia/packages/Tables/AcRIE/src/tofromdatavalues.jl:47 [inlined]\n  [3] buildcolumns\n    @ ~/.julia/packages/Tables/AcRIE/src/fallbacks.jl:209 [inlined]\n  [4] _columns\n    @ ~/.julia/packages/Tables/AcRIE/src/fallbacks.jl:274 [inlined]\n  [5] columns\n    @ ~/.julia/packages/Tables/AcRIE/src/fallbacks.jl:258 [inlined]\n  [6] DataFrame(x::PyObject; copycols::Nothing)\n    @ DataFrames ~/.julia/packages/DataFrames/JZ7x5/src/other/tables.jl:58\n  [7] DataFrame(x::PyObject)\n    @ DataFrames ~/.julia/packages/DataFrames/JZ7x5/src/other/tables.jl:48\n  [8] invokelatest(::Any, ::Any, ::Vararg{Any}; kwargs::Base.Pairs{Symbol, Union{}, Tuple{}, NamedTuple{(), Tuple{}}})\n    @ Base ./essentials.jl:816\n  [9] invokelatest(::Any, ::Any, ::Vararg{Any})\n    @ Base ./essentials.jl:813\n [10] _pyjlwrap_call(f::Type, args_::Ptr{PyCall.PyObject_struct}, kw_::Ptr{PyCall.PyObject_struct})\n    @ PyCall ~/.julia/packages/PyCall/twYvK/src/callback.jl:28\n [11] pyjlwrap_call(self_::Ptr{PyCall.PyObject_struct}, args_::Ptr{PyCall.PyObject_struct}, kw_::Ptr{PyCall.PyObject_struct})\n    @ PyCall ~/.julia/packages/PyCall/twYvK/src/callback.jl:44>"
     ]
    }
   ],
   "source": [
    "from julia import Pandas\n",
    "jl.DataFrame(Pandas.DataFrame(df))"
   ]
  },
  {
   "attachments": {},
   "cell_type": "markdown",
   "metadata": {},
   "source": [
    "As a fallback you always have to define a custom julia function which you then can pass python objects to.\n",
    "\n",
    "(Unfortunately Python does not have an interpolation syntax outside Jupyter %julia magics)"
   ]
  },
  {
   "cell_type": "code",
   "execution_count": 73,
   "metadata": {},
   "outputs": [
    {
     "data": {
      "text/plain": [
       "<PyCall.jlwrap pdf2jdf>"
      ]
     },
     "execution_count": 73,
     "metadata": {},
     "output_type": "execute_result"
    }
   ],
   "source": [
    "jl.eval(\"\"\"\n",
    "pdf2jdf(df) = DataFrame(Pandas.DataFrame(df))\n",
    "\"\"\")"
   ]
  },
  {
   "cell_type": "code",
   "execution_count": 74,
   "metadata": {},
   "outputs": [
    {
     "data": {
      "text/plain": [
       "<PyCall.jlwrap 3×2 DataFrame\n",
       " Row │ calories  duration\n",
       "     │ Int64     Int64\n",
       "─────┼────────────────────\n",
       "   1 │      420        50\n",
       "   2 │      380        40\n",
       "   3 │      390        45>"
      ]
     },
     "execution_count": 74,
     "metadata": {},
     "output_type": "execute_result"
    }
   ],
   "source": [
    "jl.pdf2jdf(df)"
   ]
  },
  {
   "attachments": {},
   "cell_type": "markdown",
   "metadata": {},
   "source": [
    "# Next: [02 JuliaCall](https://notebooks.gesis.org/binder/v2/gh/jolin-io/fall-in-love-with-julia/main?filepath=13%20Julia-Python20-%2002%20Accelerating%20Python%20with%20JuliaCall.ipynb)\n",
    "\n",
    "\n",
    "For questions or suggestions please contact me at stephan.sahm@jolin.io\n",
    "\n",
    "<a href=\"https://www.jolin.io\" target=\"_blank\" rel=\"noreferrer noopener\">\n",
    "<img src=\"https://www.jolin.io/assets/Jolin/Jolin-Banner-Website-v1.3-darkmode.webp\">\n",
    "</a>\n"
   ]
  }
 ],
 "metadata": {
  "kernelspec": {
   "display_name": ".venv",
   "language": "python",
   "name": "python3"
  },
  "language_info": {
   "codemirror_mode": {
    "name": "ipython",
    "version": 3
   },
   "file_extension": ".py",
   "mimetype": "text/x-python",
   "name": "python",
   "nbconvert_exporter": "python",
   "pygments_lexer": "ipython3",
   "version": "3.10.11"
  },
  "orig_nbformat": 4
 },
 "nbformat": 4,
 "nbformat_minor": 2
}
