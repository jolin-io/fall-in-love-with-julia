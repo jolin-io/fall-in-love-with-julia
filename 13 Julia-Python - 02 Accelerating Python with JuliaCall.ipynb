{
 "cells": [
  {
   "attachments": {},
   "cell_type": "markdown",
   "metadata": {},
   "source": [
    "[![Binder](https://mybinder.org/badge_logo.svg)](https://notebooks.gesis.org/binder/v2/gh/jolin-io/fall-in-love-with-julia/main?filepath=13%20Julia-Python20-%2002%20Accelerating%20Python%20with%20JuliaCall.ipynb)"
   ]
  },
  {
   "attachments": {},
   "cell_type": "markdown",
   "metadata": {},
   "source": [
    "<a href=\"https://www.jolin.io\" target=\"_blank\" rel=\"noreferrer noopener\">\n",
    "<img src=\"https://www.jolin.io/assets/Jolin/Jolin-Banner-Website-v1.3-darkmode.webp\">\n",
    "</a>"
   ]
  },
  {
   "attachments": {},
   "cell_type": "markdown",
   "metadata": {},
   "source": [
    "# Fall-in-love-with-Julia: Accelerating Python 101\n",
    "\n",
    "For Julia Python interactions there are two packages:\n",
    "\n",
    "|    | [PyCall.jl](https://github.com/JuliaPy/PyCall.jl) | [PythonCall.jl](https://github.com/cjdoris/PythonCall.jl) |\n",
    "| -: | --------- | ------------- |\n",
    "| pypi | with [`PyJulia`](https://github.com/JuliaPy/pyjulia) python package (simply called `julia` on pypi) | with [`JuliaCall`](https://pypi.org/project/juliacall/) python package |\n",
    "| conversions | automatically converts between native types | no auto-conversion, just wrapping |\n",
    "| dependencies | Global package management via `Conda.jl` | Project-separated package management via `CondaPkg.jl` |\n",
    "| run python | use `py\"...\"` | use `@pyexec \"...\"` |\n",
    "\n",
    "Outline\n",
    "- [01](https://notebooks.gesis.org/binder/v2/gh/jolin-io/fall-in-love-with-julia/main?filepath=13%20Julia-Python20-%2001%20Accelerating%20Python%20with%20PyJulia.ipynb) first notebook shows how to use PyJulia\n",
    "- **[02](https://notebooks.gesis.org/binder/v2/gh/jolin-io/fall-in-love-with-julia/main?filepath=13%20Julia-Python20-%2002%20Accelerating%20Python%20with%20JuliaCall.ipynb) second notebook is about JuliaCall**\n",
    "- [03](https://notebooks.gesis.org/binder/v2/gh/jolin-io/fall-in-love-with-julia/main?filepath=13%20Julia-Python20-%2003%20Use%20Python%20with%20PyCall%20and%20PythonCall.ipynb) using Python from Julia with both PyCall and PythonCall\n",
    "- [special extra](https://mybinder.org/v2/gh/jolin-io/workshop-accelerate-Python-with-Julia/main?filepath=03-example-cython-vs-cpp-vs-julia.ipynb) - Julia vs C++"
   ]
  },
  {
   "attachments": {},
   "cell_type": "markdown",
   "metadata": {},
   "source": [
    "# JuliaCall"
   ]
  },
  {
   "cell_type": "code",
   "execution_count": 1,
   "metadata": {},
   "outputs": [],
   "source": [
    "import os\n",
    "from juliacall import Main as jl\n",
    "\n",
    "# JuliaCall comes with its own Julia dependency file juliapkg.json\n",
    "# however for binder it is much simpler to just reuse binder's installation mechanism\n",
    "os.environ['PYTHON_JULIAPKG_PROJECT'] = '/path/to/project'\n",
    "os.environ['PYTHON_JULIAPKG_OFFLINE'] = 'yes'\n",
    "%load_ext juliacall"
   ]
  },
  {
   "cell_type": "code",
   "execution_count": 2,
   "metadata": {},
   "outputs": [
    {
     "data": {
      "text/plain": [
       "array([0, 1, 2, 3, 4, 5, 6, 7, 8, 9])"
      ]
     },
     "execution_count": 2,
     "metadata": {},
     "output_type": "execute_result"
    }
   ],
   "source": [
    "import numpy as np\n",
    "import pandas as pd\n",
    "\n",
    "array = np.arange(10)\n",
    "array"
   ]
  },
  {
   "attachments": {},
   "cell_type": "markdown",
   "metadata": {},
   "source": [
    "JuliaCall has no interpolation, however you can add variables as arguments to the multiline %%julia magic. They are then made available on the julia site.\n",
    "\n",
    "`JuliaCall` only wraps the objects. Conversion happens within function calls."
   ]
  },
  {
   "cell_type": "code",
   "execution_count": 3,
   "metadata": {},
   "outputs": [
    {
     "name": "stdout",
     "output_type": "stream",
     "text": [
      "typeof(array) = PyArray{Int64, 1, true, true, Int64}\n",
      "typeof(result) = BitVector\n"
     ]
    },
    {
     "data": {
      "text/plain": [
       "BitVector (alias for BitArray{1})"
      ]
     },
     "execution_count": 3,
     "metadata": {},
     "output_type": "execute_result"
    }
   ],
   "source": [
    "%%julia array\n",
    "@show typeof(array)  # @show does work because there is no interpolation\n",
    "result = isodd.(array)\n",
    "@show typeof(result)"
   ]
  },
  {
   "cell_type": "code",
   "execution_count": 4,
   "metadata": {},
   "outputs": [
    {
     "data": {
      "text/plain": [
       "juliacall.VectorValue"
      ]
     },
     "execution_count": 4,
     "metadata": {},
     "output_type": "execute_result"
    }
   ],
   "source": [
    "result = %julia isodd.(array) \n",
    "type(result)"
   ]
  },
  {
   "attachments": {},
   "cell_type": "markdown",
   "metadata": {},
   "source": [
    "No autoconversion means that you manually need to ensure everything has the right type.\n",
    "\n",
    "For me the most common pitfall is to work with `True`/`False` values"
   ]
  },
  {
   "cell_type": "code",
   "execution_count": 5,
   "metadata": {},
   "outputs": [
    {
     "name": "stdout",
     "output_type": "stream",
     "text": [
      "<class 'numpy.bool_'>\n"
     ]
    },
    {
     "data": {
      "text/plain": [
       "False"
      ]
     },
     "execution_count": 5,
     "metadata": {},
     "output_type": "execute_result"
    }
   ],
   "source": [
    "mycondition = (array == 40).any()\n",
    "print(type(mycondition))\n",
    "mycondition"
   ]
  },
  {
   "cell_type": "code",
   "execution_count": 6,
   "metadata": {},
   "outputs": [
    {
     "name": "stdout",
     "output_type": "stream",
     "text": [
      "also works :)! (we only want to test that julia actually gets a julia Bool value)\n"
     ]
    }
   ],
   "source": [
    "%%julia mycondition\n",
    "# always wrap a bool with pytruth \n",
    "if pytruth(mycondition)\n",
    "    println(\"yes! works\")\n",
    "else\n",
    "    println(\"also works :)! (we only want to test that julia actually gets a julia Bool value)\")\n",
    "end"
   ]
  },
  {
   "attachments": {},
   "cell_type": "markdown",
   "metadata": {},
   "source": [
    "# DataFrames"
   ]
  },
  {
   "cell_type": "code",
   "execution_count": 8,
   "metadata": {},
   "outputs": [
    {
     "data": {
      "text/html": [
       "<div>\n",
       "<style scoped>\n",
       "    .dataframe tbody tr th:only-of-type {\n",
       "        vertical-align: middle;\n",
       "    }\n",
       "\n",
       "    .dataframe tbody tr th {\n",
       "        vertical-align: top;\n",
       "    }\n",
       "\n",
       "    .dataframe thead th {\n",
       "        text-align: right;\n",
       "    }\n",
       "</style>\n",
       "<table border=\"1\" class=\"dataframe\">\n",
       "  <thead>\n",
       "    <tr style=\"text-align: right;\">\n",
       "      <th></th>\n",
       "      <th>calories</th>\n",
       "      <th>duration</th>\n",
       "    </tr>\n",
       "  </thead>\n",
       "  <tbody>\n",
       "    <tr>\n",
       "      <th>day1</th>\n",
       "      <td>420</td>\n",
       "      <td>50</td>\n",
       "    </tr>\n",
       "    <tr>\n",
       "      <th>day2</th>\n",
       "      <td>380</td>\n",
       "      <td>40</td>\n",
       "    </tr>\n",
       "    <tr>\n",
       "      <th>day3</th>\n",
       "      <td>390</td>\n",
       "      <td>45</td>\n",
       "    </tr>\n",
       "  </tbody>\n",
       "</table>\n",
       "</div>"
      ],
      "text/plain": [
       "      calories  duration\n",
       "day1       420        50\n",
       "day2       380        40\n",
       "day3       390        45"
      ]
     },
     "execution_count": 8,
     "metadata": {},
     "output_type": "execute_result"
    }
   ],
   "source": [
    "data = {\n",
    "  \"calories\": [420, 380, 390],\n",
    "  \"duration\": [50, 40, 45]\n",
    "}\n",
    "df = pd.DataFrame(data, index = [\"day1\", \"day2\", \"day3\"])\n",
    "df"
   ]
  },
  {
   "attachments": {},
   "cell_type": "markdown",
   "metadata": {},
   "source": [
    "JuliaCall has special support for pandas tables - they are wrapped so that they can be passed directly to DataFrame"
   ]
  },
  {
   "cell_type": "code",
   "execution_count": 9,
   "metadata": {},
   "outputs": [
    {
     "name": "stdout",
     "output_type": "stream",
     "text": [
      "typeof(df) = PyPandasDataFrame\n"
     ]
    },
    {
     "data": {
      "text/csv": [
       "\"calories\",\"duration\"\n",
       "420,50\n",
       "380,40\n",
       "390,45\n"
      ],
      "text/html": [
       "<div class=\"data-frame\"><p>3 rows × 2 columns</p><table class=\"data-frame\"><thead><tr><th></th><th>calories</th><th>duration</th></tr><tr><th></th><th title=\"Int64\">Int64</th><th title=\"Int64\">Int64</th></tr></thead><tbody><tr><th>1</th><td>420</td><td>50</td></tr><tr><th>2</th><td>380</td><td>40</td></tr><tr><th>3</th><td>390</td><td>45</td></tr></tbody></table></div>"
      ],
      "text/latex": [
       "\\begin{tabular}{r|cc}\n",
       "\t& calories & duration\\\\\n",
       "\t\\hline\n",
       "\t& Int64 & Int64\\\\\n",
       "\t\\hline\n",
       "\t1 & 420 & 50 \\\\\n",
       "\t2 & 380 & 40 \\\\\n",
       "\t3 & 390 & 45 \\\\\n",
       "\\end{tabular}\n"
      ],
      "text/plain": [
       "3×2 DataFrame\n",
       " Row │ calories  duration\n",
       "     │ Int64     Int64\n",
       "─────┼────────────────────\n",
       "   1 │      420        50\n",
       "   2 │      380        40\n",
       "   3 │      390        45"
      ],
      "text/tab-separated-values": [
       "\"calories\"\t\"duration\"\n",
       "420\t50\n",
       "380\t40\n",
       "390\t45\n"
      ]
     },
     "execution_count": 9,
     "metadata": {},
     "output_type": "execute_result"
    }
   ],
   "source": [
    "%%julia df\n",
    "using DataFrames\n",
    "@show typeof(df)\n",
    "DataFrame(df)"
   ]
  },
  {
   "attachments": {},
   "cell_type": "markdown",
   "metadata": {},
   "source": [
    "appreciate the lovely html rendering of a julia DataFrame :D"
   ]
  },
  {
   "attachments": {},
   "cell_type": "markdown",
   "metadata": {},
   "source": [
    "The other way around is only slightly more complicated"
   ]
  },
  {
   "cell_type": "code",
   "execution_count": 10,
   "metadata": {},
   "outputs": [
    {
     "data": {
      "text/csv": [
       "\"grp\",\"x\",\"y\",\"z\",\"id\"\n",
       "1,6,4,\"3\",\"a\"\n",
       "2,5,5,\"4\",\"b\"\n",
       "1,4,6,\"5\",\"c\"\n",
       "2,3,7,\"6\",\"d\"\n",
       "1,2,8,\"7\",\"e\"\n",
       "2,1,9,missing,\"f\"\n"
      ],
      "text/html": [
       "<div class=\"data-frame\"><p>6 rows × 5 columns</p><table class=\"data-frame\"><thead><tr><th></th><th>grp</th><th>x</th><th>y</th><th>z</th><th>id</th></tr><tr><th></th><th title=\"Int64\">Int64</th><th title=\"Int64\">Int64</th><th title=\"Int64\">Int64</th><th title=\"Union{Missing, Int64}\">Int64?</th><th title=\"Char\">Char</th></tr></thead><tbody><tr><th>1</th><td>1</td><td>6</td><td>4</td><td>3</td><td>a</td></tr><tr><th>2</th><td>2</td><td>5</td><td>5</td><td>4</td><td>b</td></tr><tr><th>3</th><td>1</td><td>4</td><td>6</td><td>5</td><td>c</td></tr><tr><th>4</th><td>2</td><td>3</td><td>7</td><td>6</td><td>d</td></tr><tr><th>5</th><td>1</td><td>2</td><td>8</td><td>7</td><td>e</td></tr><tr><th>6</th><td>2</td><td>1</td><td>9</td><td><em>missing</em></td><td>f</td></tr></tbody></table></div>"
      ],
      "text/latex": [
       "\\begin{tabular}{r|ccccc}\n",
       "\t& grp & x & y & z & id\\\\\n",
       "\t\\hline\n",
       "\t& Int64 & Int64 & Int64 & Int64? & Char\\\\\n",
       "\t\\hline\n",
       "\t1 & 1 & 6 & 4 & 3 & a \\\\\n",
       "\t2 & 2 & 5 & 5 & 4 & b \\\\\n",
       "\t3 & 1 & 4 & 6 & 5 & c \\\\\n",
       "\t4 & 2 & 3 & 7 & 6 & d \\\\\n",
       "\t5 & 1 & 2 & 8 & 7 & e \\\\\n",
       "\t6 & 2 & 1 & 9 & \\emph{missing} & f \\\\\n",
       "\\end{tabular}\n"
      ],
      "text/plain": [
       "6×5 DataFrame\n",
       " Row │ grp    x      y      z        id\n",
       "     │ Int64  Int64  Int64  Int64?   Char\n",
       "─────┼────────────────────────────────────\n",
       "   1 │     1      6      4        3  a\n",
       "   2 │     2      5      5        4  b\n",
       "   3 │     1      4      6        5  c\n",
       "   4 │     2      3      7        6  d\n",
       "   5 │     1      2      8        7  e\n",
       "   6 │     2      1      9  missing  f"
      ],
      "text/tab-separated-values": [
       "\"grp\"\t\"x\"\t\"y\"\t\"z\"\t\"id\"\n",
       "1\t6\t4\t\"3\"\t\"a\"\n",
       "2\t5\t5\t\"4\"\t\"b\"\n",
       "1\t4\t6\t\"5\"\t\"c\"\n",
       "2\t3\t7\t\"6\"\t\"d\"\n",
       "1\t2\t8\t\"7\"\t\"e\"\n",
       "2\t1\t9\tmissing\t\"f\"\n"
      ]
     },
     "execution_count": 10,
     "metadata": {},
     "output_type": "execute_result"
    }
   ],
   "source": [
    "%%julia\n",
    "df2 = DataFrame(grp=repeat(1:2, 3), x=6:-1:1, y=4:9, z=[3:7; missing], id='a':'f')"
   ]
  },
  {
   "cell_type": "code",
   "execution_count": 11,
   "metadata": {},
   "outputs": [
    {
     "data": {
      "text/html": [
       "<div>\n",
       "<style scoped>\n",
       "    .dataframe tbody tr th:only-of-type {\n",
       "        vertical-align: middle;\n",
       "    }\n",
       "\n",
       "    .dataframe tbody tr th {\n",
       "        vertical-align: top;\n",
       "    }\n",
       "\n",
       "    .dataframe thead th {\n",
       "        text-align: right;\n",
       "    }\n",
       "</style>\n",
       "<table border=\"1\" class=\"dataframe\">\n",
       "  <thead>\n",
       "    <tr style=\"text-align: right;\">\n",
       "      <th></th>\n",
       "      <th>grp</th>\n",
       "      <th>x</th>\n",
       "      <th>y</th>\n",
       "      <th>z</th>\n",
       "      <th>id</th>\n",
       "    </tr>\n",
       "  </thead>\n",
       "  <tbody>\n",
       "    <tr>\n",
       "      <th>0</th>\n",
       "      <td>1</td>\n",
       "      <td>6</td>\n",
       "      <td>4</td>\n",
       "      <td>3</td>\n",
       "      <td>a</td>\n",
       "    </tr>\n",
       "    <tr>\n",
       "      <th>1</th>\n",
       "      <td>2</td>\n",
       "      <td>5</td>\n",
       "      <td>5</td>\n",
       "      <td>4</td>\n",
       "      <td>b</td>\n",
       "    </tr>\n",
       "    <tr>\n",
       "      <th>2</th>\n",
       "      <td>1</td>\n",
       "      <td>4</td>\n",
       "      <td>6</td>\n",
       "      <td>5</td>\n",
       "      <td>c</td>\n",
       "    </tr>\n",
       "    <tr>\n",
       "      <th>3</th>\n",
       "      <td>2</td>\n",
       "      <td>3</td>\n",
       "      <td>7</td>\n",
       "      <td>6</td>\n",
       "      <td>d</td>\n",
       "    </tr>\n",
       "    <tr>\n",
       "      <th>4</th>\n",
       "      <td>1</td>\n",
       "      <td>2</td>\n",
       "      <td>8</td>\n",
       "      <td>7</td>\n",
       "      <td>e</td>\n",
       "    </tr>\n",
       "    <tr>\n",
       "      <th>5</th>\n",
       "      <td>2</td>\n",
       "      <td>1</td>\n",
       "      <td>9</td>\n",
       "      <td>missing</td>\n",
       "      <td>f</td>\n",
       "    </tr>\n",
       "  </tbody>\n",
       "</table>\n",
       "</div>"
      ],
      "text/plain": [
       "   grp  x  y        z id\n",
       "0    1  6  4        3  a\n",
       "1    2  5  5        4  b\n",
       "2    1  4  6        5  c\n",
       "3    2  3  7        6  d\n",
       "4    1  2  8        7  e\n",
       "5    2  1  9  missing  f"
      ]
     },
     "execution_count": 11,
     "metadata": {},
     "output_type": "execute_result"
    }
   ],
   "source": [
    "pd.DataFrame(jl.pytable(jl.df2))"
   ]
  },
  {
   "attachments": {},
   "cell_type": "markdown",
   "metadata": {},
   "source": [
    "# Next: [03 PyCall](https://notebooks.gesis.org/binder/v2/gh/jolin-io/fall-in-love-with-julia/main?filepath=13%20Julia-Python20-%2003%20Use%20Python%20with%20PyCall%20and%20PythonCall.ipynb)\n",
    "\n",
    "\n",
    "For questions or suggestions please contact me at stephan.sahm@jolin.io\n",
    "\n",
    "<a href=\"https://www.jolin.io\" target=\"_blank\" rel=\"noreferrer noopener\">\n",
    "<img src=\"https://www.jolin.io/assets/Jolin/Jolin-Banner-Website-v1.3-darkmode.webp\">\n",
    "</a>\n"
   ]
  }
 ],
 "metadata": {
  "kernelspec": {
   "display_name": ".venv",
   "language": "python",
   "name": "python3"
  },
  "language_info": {
   "codemirror_mode": {
    "name": "ipython",
    "version": 3
   },
   "file_extension": ".py",
   "mimetype": "text/x-python",
   "name": "python",
   "nbconvert_exporter": "python",
   "pygments_lexer": "ipython3",
   "version": "3.10.11"
  },
  "orig_nbformat": 4
 },
 "nbformat": 4,
 "nbformat_minor": 2
}
